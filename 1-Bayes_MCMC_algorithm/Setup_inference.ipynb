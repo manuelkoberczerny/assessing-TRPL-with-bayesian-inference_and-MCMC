{
 "cells": [
  {
   "cell_type": "markdown",
   "id": "6d5b2031-6c22-4098-bdde-3b454fd1ae3e",
   "metadata": {},
   "source": [
    "# Bayes-MCMC Algorithm for TRPL Data Assessment - Batch Version"
   ]
  },
  {
   "cell_type": "code",
   "execution_count": 1,
   "id": "b583e8a8-887a-43b2-9969-2f2517cb6c7f",
   "metadata": {},
   "outputs": [],
   "source": [
    "#import arviz as az\n",
    "from Manuel_BayesTRPL_Utilities import *\n",
    "from Manuel_BayesTRPL_model import *"
   ]
  },
  {
   "cell_type": "markdown",
   "id": "c50e7846",
   "metadata": {},
   "source": [
    "The 'config'-file is a .csv file containig 6 columns:  \n",
    "file name (no .txt)  |  thickness (nm)  |  side (1 or 2)  |  alpha (cm-1)  |  reflectance  |  Intensity  |  max_time (ns)\n",
    "\n",
    "Recommended for NUTS:  \n",
    "tune_no = 1000;\n",
    "draws_no = 1000;\n",
    "cores_no = 10\n",
    "\n",
    "Recommended for Metropolis-Hastings:  \n",
    "tune_no = 9000;\n",
    "draws_no = 1000;\n",
    "cores_no = 10\n",
    "\n",
    "PN_on_off = 0 or 1 # Do you want to have p_eq as a parameter?\n",
    "diffusion_on_off = 0 or 1; Do you expect diffusion to impact your TRPL response?\n",
    "\n",
    "Laser power files:    \n",
    "old: 2022_05_01_TRPL_Laserpower.txt; from 18-Jul-2023 use: 2024_03_06_TRPL_Laserpower.txt"
   ]
  },
  {
   "cell_type": "markdown",
   "id": "190cdc61",
   "metadata": {},
   "source": [
    "## Dataset"
   ]
  },
  {
   "cell_type": "code",
   "execution_count": null,
   "id": "f87b69a4",
   "metadata": {},
   "outputs": [
    {
     "name": "stdout",
     "output_type": "stream",
     "text": [
      "Files ready...\n"
     ]
    }
   ],
   "source": [
    "spacing = 'log200'   # Default is 'log20', can be 'linear', 'log###'\n",
    "\n",
    "tune_no = 1000\n",
    "draws_no = 1000\n",
    "cores_no = 10\n",
    "PN_n_off = [1]\n",
    "diffusion_on_off = [1]\n",
    "\n",
    "folder = r\"Example_Data/TRPL\"\n",
    "config_names = [r\"Seo_FAPI_nuts.csv\"]\n",
    "\n",
    "laserpower_file = \"2022_05_01_TRPL_Laserpower.txt\" #most recent: \"\" , old: \"2022_05_01_TRPL_Laserpower.txt\"\n",
    "\n",
    "for i, config_name in enumerate(config_names):\n",
    "    df, pile_up, sample_names, Fluences, Thickness, Surface, Absorption_coeff, max_arg = Bayes_TRPL_Utils(folder, config_name, laserpower_file)\n",
    "    trace = run_bayesian_inference(df, max_arg, spacing, Fluences, Surface, Thickness, Absorption_coeff, tune_no, draws_no, cores_no, folder, config_name, laserpower_file, PN_n_off[i], diffusion_on_off[i])"
   ]
  }
 ],
 "metadata": {
  "kernelspec": {
   "display_name": "Python 3 (ipykernel)",
   "language": "python",
   "name": "python3"
  },
  "language_info": {
   "codemirror_mode": {
    "name": "ipython",
    "version": 3
   },
   "file_extension": ".py",
   "mimetype": "text/x-python",
   "name": "python",
   "nbconvert_exporter": "python",
   "pygments_lexer": "ipython3",
   "version": "3.11.4"
  }
 },
 "nbformat": 4,
 "nbformat_minor": 5
}
