{
 "cells": [
  {
   "cell_type": "markdown",
   "id": "9a8430af",
   "metadata": {},
   "source": [
    "# Simulator For TRPL Data"
   ]
  },
  {
   "cell_type": "code",
   "execution_count": 1,
   "id": "d2c6defb",
   "metadata": {},
   "outputs": [],
   "source": [
    "import os\n",
    "os.environ['OMP_NUM_THREADS'] = '1'\n",
    "\n",
    "import numpy as np\n",
    "import pandas as pd\n",
    "import pytensor.tensor as at\n",
    "from pytensor import *\n",
    "from pytensor import config\n",
    "config.allow_gc = False\n",
    "import matplotlib.pyplot as plt\n",
    "\n",
    "### Oxford color scheme\n",
    "base_color = \"#002147\"\n",
    "color_scheme = [\"#44687d\", \"#69913b\", '#cf7a30', '#be0f34']\n",
    "highlight_color = \"#ac48bf\"\n",
    "\n",
    "line_type_list = ['-', '-.', '--', ':']\n",
    "\n",
    "centimeters = 1/2.54\n",
    "fontsize_base = 11\n",
    "figure_width = 21\n"
   ]
  },
  {
   "cell_type": "markdown",
   "id": "d6e155b7",
   "metadata": {},
   "source": [
    "# Model"
   ]
  },
  {
   "cell_type": "code",
   "execution_count": 94,
   "id": "63da0834",
   "metadata": {},
   "outputs": [],
   "source": [
    "def X_n_maker(d_factor, x_size, dx, D, Sf, Sb):\n",
    "\n",
    "    Xn_1 = at.extra_ops.fill_diagonal_offset(x_size, d_factor, -1)\n",
    "    \n",
    "    Xn_2a = at.extra_ops.fill_diagonal_offset(x_size, 1-2.*d_factor, 0)\n",
    "    Xn_2a1 = at.set_subtensor(Xn_2a[0,0],1-d_factor - (dx/D)*d_factor *Sf)\n",
    "    Xn_2 = at.set_subtensor(Xn_2a1[-1,-1],1-d_factor - (dx/D)*d_factor *Sb)\n",
    "    \n",
    "    Xn_3 = at.extra_ops.fill_diagonal_offset(x_size, d_factor, 1)\n",
    "    \n",
    "    return Xn_1 + Xn_2 + Xn_3\n",
    "\n",
    "\n",
    "def X_n_maker2(d_factor, size, dx, D, Sf, Sb):\n",
    "    #size = at.shape(x_size)[0]\n",
    "    \n",
    "    # Step 1: Create the main diagonal and off-diagonals (scipy.sparse)\n",
    "    # Create main diagonal values: first_value, middle_value, last_value\n",
    "    first_value = 1 - d_factor - (dx / D) * d_factor * Sf\n",
    "    last_value = 1 - d_factor - (dx / D) * d_factor * Sb\n",
    "    middle_value = 1 - 2 * d_factor\n",
    "    \n",
    "    # Create arrays for the diagonals\n",
    "    main_diag = [first_value] + [middle_value] * (size - 2) + [last_value]\n",
    "    off_diag = [-d_factor] * (size - 1)\n",
    "\n",
    "    # Step 2: Create the row indices and column indices for the sparse matrix\n",
    "    row_indices = list(range(size))\n",
    "    col_indices = list(range(size))\n",
    "\n",
    "    # Step 3: Combine the values and indices for the sparse matrix in CSC format\n",
    "    # First, construct the main diagonal and off-diagonal\n",
    "    data = main_diag + off_diag + off_diag  # Concatenate diagonal values\n",
    "    indices = row_indices + col_indices  # Row indices and column indices\n",
    "    indptr = [0, size, size + (size - 1)]  # Index pointer for rows\n",
    "\n",
    "    # Create the sparse matrix in CSC format (could also use CSR depending on usage)\n",
    "    sparse_matrix_csc = sp.csc_matrix((data, indices, indptr), shape=(size, size))\n",
    "\n",
    "    # Convert to a pytensor sparse tensor using csr_matrix (or csc_matrix if needed)\n",
    "    A_n_sparse = pytensor.sparse.CSR(sparse_matrix_csc.data, sparse_matrix_csc.indices, sparse_matrix_csc.indptr, shape=sparse_matrix_csc.shape)\n",
    "\n",
    "    return main_diag\n",
    "\n",
    "\n",
    "\n",
    "\n",
    "\n",
    "### First: Define Rate equations\n",
    "### First: Define Rate equations\n",
    "def rate_equations(n_dens, nt, params):            \n",
    "\n",
    "    k_c, k_deep, k_e, k_rad, k_aug, _, _, _, _ = params\n",
    "    \n",
    "    p_dens = n_dens + nt\n",
    "\n",
    "    R_rad = - k_rad*n_dens*p_dens\n",
    "    \n",
    "    dnt_dt = k_c*n_dens - k_e*nt\n",
    "    R_nr = - k_c*n_dens + k_e*nt - k_deep*n_dens\n",
    "    \n",
    "    dn_dt = R_rad + R_nr\n",
    "    \n",
    "    return dn_dt, dnt_dt\n",
    "\n",
    "\n",
    "def Runge_Kutta_R4(n_dens, nt, dt, params):\n",
    "\n",
    "    RuKu1_n, RuKu1_nt = rate_equations(n_dens, nt, params)\n",
    "    RuKu2_n, RuKu2_nt = rate_equations(n_dens + RuKu1_n*dt/2, nt + RuKu1_nt*dt/2, params)\n",
    "    RuKu3_n, RuKu3_nt = rate_equations(n_dens + RuKu2_n*dt/2, nt + RuKu2_nt*dt/2, params)\n",
    "    RuKu4_n, RuKu4_nt = rate_equations(n_dens + RuKu3_n*dt, nt + RuKu3_nt*dt, params)\n",
    "\n",
    "    Ruku_n = (RuKu1_n + 2*RuKu2_n + 2*RuKu3_n + RuKu4_n)/6\n",
    "    Ruku_nt = (RuKu1_nt + 2*RuKu2_nt + 2*RuKu3_nt + RuKu4_nt)/6\n",
    "\n",
    "    return Ruku_n, Ruku_nt\n",
    "\n",
    "\n",
    "### Looping over time-domain\n",
    "def total_recombination_rate(dt_current, n_dens, p_dens, ds, x_size, params):\n",
    "\n",
    "    _, _, _, _, _, _, D, S_f, S_b = params\n",
    "\n",
    "    # a. Recombination (Runge-Kutta Algorithm)\n",
    "    nt = p_dens - n_dens\n",
    "    Ruku_n, Ruku_nt  = Runge_Kutta_R4(n_dens, nt, dt_current, params)\n",
    "    \n",
    "    # b. Diffusion\n",
    "    d_factor = D*dt_current/(2*ds*ds)\n",
    "    A_n = X_n_maker2(-d_factor, x_size, ds, D, S_f, S_b)\n",
    "    B_n = X_n_maker2(d_factor, x_size, ds, D, S_f, S_b)\n",
    "\n",
    "    Bn_dot_n_dens = at.dot(B_n, n_dens) + Ruku_n*dt_current#/2\n",
    "    n_dens_new = at.slinalg.solve(A_n, Bn_dot_n_dens) # at.dot(at.linalg.inv(A_n), Bn_dot_n_dens)\n",
    "\n",
    "    # c. Physical limits\n",
    "    n_dens_new = at.switch(at.le(n_dens_new, 0), 0, n_dens_new)\n",
    "    p_dens_new = n_dens_new + nt + Ruku_nt*dt_current\n",
    "    p_dens_new = at.switch(at.le(p_dens_new, 0), 0, p_dens_new)\n",
    "    \n",
    "    return n_dens_new, p_dens_new"
   ]
  },
  {
   "cell_type": "code",
   "execution_count": 95,
   "id": "25b8d3c1",
   "metadata": {},
   "outputs": [
    {
     "ename": "TypeError",
     "evalue": "'TensorVariable' object cannot be interpreted as an integer",
     "output_type": "error",
     "traceback": [
      "\u001b[1;31m---------------------------------------------------------------------------\u001b[0m",
      "\u001b[1;31mTypeError\u001b[0m                                 Traceback (most recent call last)",
      "Cell \u001b[1;32mIn[95], line 10\u001b[0m\n\u001b[0;32m      6\u001b[0m Sf \u001b[38;5;241m=\u001b[39m \u001b[38;5;241m0.1\u001b[39m\n\u001b[0;32m      7\u001b[0m Sb \u001b[38;5;241m=\u001b[39m \u001b[38;5;241m0.1\u001b[39m\n\u001b[1;32m---> 10\u001b[0m An \u001b[38;5;241m=\u001b[39m \u001b[43mX_n_maker2\u001b[49m\u001b[43m(\u001b[49m\u001b[43md_factor\u001b[49m\u001b[43m,\u001b[49m\u001b[43m \u001b[49m\u001b[43mx_size\u001b[49m\u001b[43m,\u001b[49m\u001b[43m \u001b[49m\u001b[38;5;241;43m1e-9\u001b[39;49m\u001b[43m,\u001b[49m\u001b[43m \u001b[49m\u001b[43mD\u001b[49m\u001b[43m,\u001b[49m\u001b[43m \u001b[49m\u001b[43mSf\u001b[49m\u001b[43m,\u001b[49m\u001b[43m \u001b[49m\u001b[43mSb\u001b[49m\u001b[43m)\u001b[49m\n\u001b[0;32m     12\u001b[0m \u001b[38;5;28mprint\u001b[39m(at\u001b[38;5;241m.\u001b[39mshape(An)\u001b[38;5;241m.\u001b[39meval())\n\u001b[0;32m     13\u001b[0m \u001b[38;5;28mprint\u001b[39m(An\u001b[38;5;241m.\u001b[39meval())\n",
      "Cell \u001b[1;32mIn[94], line 28\u001b[0m, in \u001b[0;36mX_n_maker2\u001b[1;34m(d_factor, x_size, dx, D, Sf, Sb)\u001b[0m\n\u001b[0;32m     25\u001b[0m off_diag \u001b[38;5;241m=\u001b[39m [\u001b[38;5;241m-\u001b[39md_factor] \u001b[38;5;241m*\u001b[39m (size \u001b[38;5;241m-\u001b[39m \u001b[38;5;241m1\u001b[39m)\n\u001b[0;32m     27\u001b[0m \u001b[38;5;66;03m# Step 2: Create the row indices and column indices for the sparse matrix\u001b[39;00m\n\u001b[1;32m---> 28\u001b[0m row_indices \u001b[38;5;241m=\u001b[39m \u001b[38;5;28mlist\u001b[39m(\u001b[38;5;28;43mrange\u001b[39;49m\u001b[43m(\u001b[49m\u001b[43msize\u001b[49m\u001b[43m)\u001b[49m)\n\u001b[0;32m     29\u001b[0m col_indices \u001b[38;5;241m=\u001b[39m \u001b[38;5;28mlist\u001b[39m(\u001b[38;5;28mrange\u001b[39m(size))\n\u001b[0;32m     31\u001b[0m \u001b[38;5;66;03m# Step 3: Combine the values and indices for the sparse matrix in CSC format\u001b[39;00m\n\u001b[0;32m     32\u001b[0m \u001b[38;5;66;03m# First, construct the main diagonal and off-diagonal\u001b[39;00m\n",
      "\u001b[1;31mTypeError\u001b[0m: 'TensorVariable' object cannot be interpreted as an integer"
     ]
    }
   ],
   "source": [
    "D = 0.025*1e8\n",
    "\n",
    "d_factor = D*1e-9/(2*0.1*0.1)\n",
    "\n",
    "x_size = at.ones(shape=(100,100))\n",
    "Sf = 0.1\n",
    "Sb = 0.1\n",
    "\n",
    "\n",
    "An = X_n_maker2(d_factor, x_size, 1e-9, D, Sf, Sb)\n",
    "\n",
    "print(at.shape(An).eval())\n",
    "print(An.eval())"
   ]
  },
  {
   "cell_type": "code",
   "execution_count": 91,
   "id": "1210e669",
   "metadata": {},
   "outputs": [],
   "source": [
    "def model_in_pytensor(time, Fluence, thickness, Absorption_coeff, p0, S_front_value, S_back_value, mu_vert, k_rad, k_deep, k_c, k_e):\n",
    "    \n",
    "    ## Define the spacial and temporal domains\n",
    "\n",
    "    x = np.arange(0,thickness,30)\n",
    "    z_array_np = x*1e-3\n",
    "    z_array = at.as_tensor_variable(z_array_np)\n",
    "\n",
    "    ds = at.as_tensor_variable(z_array_np[1]-z_array_np[0])\n",
    "    dt = at.extra_ops.diff(time)   \n",
    "    \n",
    "    # Diffusion Coeffient in cm2 s-1\n",
    "    limit_mobility = (thickness*1e-7)**2/(at.abs(time[1]-time[0]))/(1.380649e-23*292/1.6021766e-19)  #cm2 (Vs)-1\n",
    "    Diffusion_coefficient = mu_vert*(1.380649e-23*292/1.6021766e-19)*1e8\n",
    "\n",
    "    \n",
    "    # Packing parameters\n",
    "    params = k_c, k_deep, k_e, k_rad, 0, 0, Diffusion_coefficient, S_front_value, S_back_value\n",
    "    \n",
    "    # Initial Charge-Carrier Density\n",
    "    Absorption_coeff = at.switch(at.ge(mu_vert, limit_mobility/4), 0, Absorption_coeff)\n",
    "    \n",
    "    generation = at.exp(-Absorption_coeff*z_array)\n",
    "    generation_sum = at.sum(((generation[1:] + generation[:-1])/2), axis=0) * ds\n",
    "    n_0z = Fluence/(generation_sum) * generation\n",
    "    \n",
    "    x_size = at.zeros(shape=(at.shape(n_0z),at.shape(n_0z)))\n",
    "    \n",
    "    result_one_sample, _ = pytensor.scan(fn=total_recombination_rate,\n",
    "                                            sequences=[dt],\n",
    "                                            outputs_info=[n_0z, n_0z+p0],\n",
    "                                            non_sequences=[ds, x_size, params], strict=True)    \n",
    "\n",
    "    n_init = (n_0z).dimshuffle('x',0)\n",
    "    N_calc = at.concatenate([n_init, result_one_sample[0]], axis=0)\n",
    "    p_init = (n_0z + p0).dimshuffle('x',0)\n",
    "    P_calc = at.concatenate([p_init, result_one_sample[1]], axis=0)\n",
    " \n",
    "    ## Turn radiative recombination into PL response    \n",
    "    Rrad_calc = N_calc * P_calc\n",
    "    \n",
    "    PL_calc = at.sum(((Rrad_calc[:,1:] + Rrad_calc[:,:-1])/2), axis=1) * ds\n",
    "    \n",
    "    PL_0 = PL_calc[0]\n",
    "\n",
    "    PL_obs = PL_calc/PL_0    \n",
    "    return PL_obs, N_calc, P_calc\n"
   ]
  },
  {
   "cell_type": "markdown",
   "id": "18c3c249",
   "metadata": {},
   "source": [
    "## Main Part"
   ]
  },
  {
   "cell_type": "code",
   "execution_count": 92,
   "id": "d413df9a",
   "metadata": {},
   "outputs": [
    {
     "ename": "TypeError",
     "evalue": "'TensorVariable' object cannot be interpreted as an integer",
     "output_type": "error",
     "traceback": [
      "\u001b[1;31m---------------------------------------------------------------------------\u001b[0m",
      "\u001b[1;31mTypeError\u001b[0m                                 Traceback (most recent call last)",
      "Cell \u001b[1;32mIn[92], line 25\u001b[0m\n\u001b[0;32m     22\u001b[0m df_save \u001b[38;5;241m=\u001b[39m pd\u001b[38;5;241m.\u001b[39mDataFrame()\n\u001b[0;32m     23\u001b[0m df_save[\u001b[38;5;124mf\u001b[39m\u001b[38;5;124m'\u001b[39m\u001b[38;5;124mTime\u001b[39m\u001b[38;5;124m'\u001b[39m] \u001b[38;5;241m=\u001b[39m time\n\u001b[1;32m---> 25\u001b[0m PL, n_dens, p_dens \u001b[38;5;241m=\u001b[39m \u001b[43mmodel_in_pytensor\u001b[49m\u001b[43m(\u001b[49m\u001b[43mtime\u001b[49m\u001b[38;5;241;43m*\u001b[39;49m\u001b[38;5;241;43m1e-9\u001b[39;49m\u001b[43m,\u001b[49m\u001b[43m \u001b[49m\u001b[43mFluence\u001b[49m\u001b[38;5;241;43m*\u001b[39;49m\u001b[38;5;241;43m1e-8\u001b[39;49m\u001b[43m,\u001b[49m\u001b[43m \u001b[49m\u001b[43mThickness\u001b[49m\u001b[43m,\u001b[49m\u001b[43m \u001b[49m\u001b[43malpha\u001b[49m\u001b[38;5;241;43m*\u001b[39;49m\u001b[38;5;241;43m1e-4\u001b[39;49m\u001b[43m,\u001b[49m\u001b[43m \u001b[49m\u001b[43mp0\u001b[49m\u001b[38;5;241;43m*\u001b[39;49m\u001b[38;5;241;43m1e-12\u001b[39;49m\u001b[43m,\u001b[49m\u001b[43m \u001b[49m\u001b[43mSfront\u001b[49m\u001b[38;5;241;43m*\u001b[39;49m\u001b[38;5;241;43m1e4\u001b[39;49m\u001b[43m,\u001b[49m\u001b[43m \u001b[49m\u001b[43mSback\u001b[49m\u001b[38;5;241;43m*\u001b[39;49m\u001b[38;5;241;43m1e4\u001b[39;49m\u001b[43m,\u001b[49m\u001b[43m \u001b[49m\u001b[43mMobility\u001b[49m\u001b[43m,\u001b[49m\u001b[43m \u001b[49m\u001b[43mk_rad\u001b[49m\u001b[38;5;241;43m*\u001b[39;49m\u001b[38;5;241;43m1e12\u001b[39;49m\u001b[43m,\u001b[49m\u001b[43m \u001b[49m\u001b[43mk_deep\u001b[49m\u001b[43m,\u001b[49m\u001b[43m \u001b[49m\u001b[43mk_c\u001b[49m\u001b[43m,\u001b[49m\u001b[43m \u001b[49m\u001b[43mk_e\u001b[49m\u001b[43m)\u001b[49m\n",
      "Cell \u001b[1;32mIn[91], line 29\u001b[0m, in \u001b[0;36mmodel_in_pytensor\u001b[1;34m(time, Fluence, thickness, Absorption_coeff, p0, S_front_value, S_back_value, mu_vert, k_rad, k_deep, k_c, k_e)\u001b[0m\n\u001b[0;32m     25\u001b[0m n_0z \u001b[38;5;241m=\u001b[39m Fluence\u001b[38;5;241m/\u001b[39m(generation_sum) \u001b[38;5;241m*\u001b[39m generation\n\u001b[0;32m     27\u001b[0m x_size \u001b[38;5;241m=\u001b[39m at\u001b[38;5;241m.\u001b[39mzeros(shape\u001b[38;5;241m=\u001b[39m(at\u001b[38;5;241m.\u001b[39mshape(n_0z),at\u001b[38;5;241m.\u001b[39mshape(n_0z)))\n\u001b[1;32m---> 29\u001b[0m result_one_sample, _ \u001b[38;5;241m=\u001b[39m \u001b[43mpytensor\u001b[49m\u001b[38;5;241;43m.\u001b[39;49m\u001b[43mscan\u001b[49m\u001b[43m(\u001b[49m\u001b[43mfn\u001b[49m\u001b[38;5;241;43m=\u001b[39;49m\u001b[43mtotal_recombination_rate\u001b[49m\u001b[43m,\u001b[49m\n\u001b[0;32m     30\u001b[0m \u001b[43m                                        \u001b[49m\u001b[43msequences\u001b[49m\u001b[38;5;241;43m=\u001b[39;49m\u001b[43m[\u001b[49m\u001b[43mdt\u001b[49m\u001b[43m]\u001b[49m\u001b[43m,\u001b[49m\n\u001b[0;32m     31\u001b[0m \u001b[43m                                        \u001b[49m\u001b[43moutputs_info\u001b[49m\u001b[38;5;241;43m=\u001b[39;49m\u001b[43m[\u001b[49m\u001b[43mn_0z\u001b[49m\u001b[43m,\u001b[49m\u001b[43m \u001b[49m\u001b[43mn_0z\u001b[49m\u001b[38;5;241;43m+\u001b[39;49m\u001b[43mp0\u001b[49m\u001b[43m]\u001b[49m\u001b[43m,\u001b[49m\n\u001b[0;32m     32\u001b[0m \u001b[43m                                        \u001b[49m\u001b[43mnon_sequences\u001b[49m\u001b[38;5;241;43m=\u001b[39;49m\u001b[43m[\u001b[49m\u001b[43mds\u001b[49m\u001b[43m,\u001b[49m\u001b[43m \u001b[49m\u001b[43mx_size\u001b[49m\u001b[43m,\u001b[49m\u001b[43m \u001b[49m\u001b[43mparams\u001b[49m\u001b[43m]\u001b[49m\u001b[43m,\u001b[49m\u001b[43m \u001b[49m\u001b[43mstrict\u001b[49m\u001b[38;5;241;43m=\u001b[39;49m\u001b[38;5;28;43;01mTrue\u001b[39;49;00m\u001b[43m)\u001b[49m    \n\u001b[0;32m     34\u001b[0m n_init \u001b[38;5;241m=\u001b[39m (n_0z)\u001b[38;5;241m.\u001b[39mdimshuffle(\u001b[38;5;124m'\u001b[39m\u001b[38;5;124mx\u001b[39m\u001b[38;5;124m'\u001b[39m,\u001b[38;5;241m0\u001b[39m)\n\u001b[0;32m     35\u001b[0m N_calc \u001b[38;5;241m=\u001b[39m at\u001b[38;5;241m.\u001b[39mconcatenate([n_init, result_one_sample[\u001b[38;5;241m0\u001b[39m]], axis\u001b[38;5;241m=\u001b[39m\u001b[38;5;241m0\u001b[39m)\n",
      "File \u001b[1;32mc:\\Users\\kober-czerny\\.conda\\envs\\pymc5_env\\Lib\\site-packages\\pytensor\\scan\\basic.py:854\u001b[0m, in \u001b[0;36mscan\u001b[1;34m(fn, sequences, outputs_info, non_sequences, n_steps, truncate_gradient, go_backwards, mode, name, profile, allow_gc, strict, return_list)\u001b[0m\n\u001b[0;32m    850\u001b[0m \u001b[38;5;66;03m# when we apply the lambda expression we get a mixture of update rules\u001b[39;00m\n\u001b[0;32m    851\u001b[0m \u001b[38;5;66;03m# and outputs that needs to be separated\u001b[39;00m\n\u001b[0;32m    853\u001b[0m \u001b[38;5;28;01mwith\u001b[39;00m collect_new_shareds() \u001b[38;5;28;01mas\u001b[39;00m new_shareds:\n\u001b[1;32m--> 854\u001b[0m     raw_inner_outputs \u001b[38;5;241m=\u001b[39m \u001b[43mfn\u001b[49m\u001b[43m(\u001b[49m\u001b[38;5;241;43m*\u001b[39;49m\u001b[43margs\u001b[49m\u001b[43m)\u001b[49m\n\u001b[0;32m    856\u001b[0m condition, outputs, updates \u001b[38;5;241m=\u001b[39m get_updates_and_outputs(raw_inner_outputs)\n\u001b[0;32m    857\u001b[0m \u001b[38;5;28;01mif\u001b[39;00m condition \u001b[38;5;129;01mis\u001b[39;00m \u001b[38;5;129;01mnot\u001b[39;00m \u001b[38;5;28;01mNone\u001b[39;00m:\n",
      "Cell \u001b[1;32mIn[90], line 91\u001b[0m, in \u001b[0;36mtotal_recombination_rate\u001b[1;34m(dt_current, n_dens, p_dens, ds, x_size, params)\u001b[0m\n\u001b[0;32m     89\u001b[0m \u001b[38;5;66;03m# b. Diffusion\u001b[39;00m\n\u001b[0;32m     90\u001b[0m d_factor \u001b[38;5;241m=\u001b[39m D\u001b[38;5;241m*\u001b[39mdt_current\u001b[38;5;241m/\u001b[39m(\u001b[38;5;241m2\u001b[39m\u001b[38;5;241m*\u001b[39mds\u001b[38;5;241m*\u001b[39mds)\n\u001b[1;32m---> 91\u001b[0m A_n \u001b[38;5;241m=\u001b[39m \u001b[43mX_n_maker2\u001b[49m\u001b[43m(\u001b[49m\u001b[38;5;241;43m-\u001b[39;49m\u001b[43md_factor\u001b[49m\u001b[43m,\u001b[49m\u001b[43m \u001b[49m\u001b[43mx_size\u001b[49m\u001b[43m,\u001b[49m\u001b[43m \u001b[49m\u001b[43mds\u001b[49m\u001b[43m,\u001b[49m\u001b[43m \u001b[49m\u001b[43mD\u001b[49m\u001b[43m,\u001b[49m\u001b[43m \u001b[49m\u001b[43mS_f\u001b[49m\u001b[43m,\u001b[49m\u001b[43m \u001b[49m\u001b[43mS_b\u001b[49m\u001b[43m)\u001b[49m\n\u001b[0;32m     92\u001b[0m B_n \u001b[38;5;241m=\u001b[39m X_n_maker2(d_factor, x_size, ds, D, S_f, S_b)\n\u001b[0;32m     94\u001b[0m Bn_dot_n_dens \u001b[38;5;241m=\u001b[39m at\u001b[38;5;241m.\u001b[39mdot(B_n, n_dens) \u001b[38;5;241m+\u001b[39m Ruku_n\u001b[38;5;241m*\u001b[39mdt_current\u001b[38;5;66;03m#/2\u001b[39;00m\n",
      "Cell \u001b[1;32mIn[90], line 28\u001b[0m, in \u001b[0;36mX_n_maker2\u001b[1;34m(d_factor, x_size, dx, D, Sf, Sb)\u001b[0m\n\u001b[0;32m     25\u001b[0m off_diag \u001b[38;5;241m=\u001b[39m [\u001b[38;5;241m-\u001b[39md_factor] \u001b[38;5;241m*\u001b[39m (size \u001b[38;5;241m-\u001b[39m \u001b[38;5;241m1\u001b[39m)\n\u001b[0;32m     27\u001b[0m \u001b[38;5;66;03m# Step 2: Create the row indices and column indices for the sparse matrix\u001b[39;00m\n\u001b[1;32m---> 28\u001b[0m row_indices \u001b[38;5;241m=\u001b[39m \u001b[38;5;28mlist\u001b[39m(\u001b[38;5;28;43mrange\u001b[39;49m\u001b[43m(\u001b[49m\u001b[43msize\u001b[49m\u001b[43m)\u001b[49m)\n\u001b[0;32m     29\u001b[0m col_indices \u001b[38;5;241m=\u001b[39m \u001b[38;5;28mlist\u001b[39m(\u001b[38;5;28mrange\u001b[39m(size))\n\u001b[0;32m     31\u001b[0m \u001b[38;5;66;03m# Step 3: Combine the values and indices for the sparse matrix in CSC format\u001b[39;00m\n\u001b[0;32m     32\u001b[0m \u001b[38;5;66;03m# First, construct the main diagonal and off-diagonal\u001b[39;00m\n",
      "\u001b[1;31mTypeError\u001b[0m: 'TensorVariable' object cannot be interpreted as an integer"
     ]
    }
   ],
   "source": [
    "# Parameter Definition\n",
    "Sfront = 150 #cm s-1\n",
    "Sback = 500 #cm s-1\n",
    "Mobility = 0.5 #cm2 V-1s-1\n",
    "\n",
    "\n",
    "Fluence = 4.8e11   #cm-2\n",
    "\n",
    "alpha = 3e5  #cm-1\n",
    "Thickness = 600   #nm\n",
    "\n",
    "k_rad = 1e-10   #cm3 s-1\n",
    "p0 = 0#   #cm-3\n",
    "\n",
    "\n",
    "k_deep = 1e6   #s-1\n",
    "k_c = 1e6\n",
    "k_e = 1e4\n",
    "\n",
    "time = np.logspace(-1,2.8,200) #ns\n",
    "\n",
    "df_save = pd.DataFrame()\n",
    "df_save[f'Time'] = time\n",
    "\n",
    "PL, n_dens, p_dens = model_in_pytensor(time*1e-9, Fluence*1e-8, Thickness, alpha*1e-4, p0*1e-12, Sfront*1e4, Sback*1e4, Mobility, k_rad*1e12, k_deep, k_c, k_e)\n"
   ]
  },
  {
   "cell_type": "code",
   "execution_count": 85,
   "id": "3e3febf4",
   "metadata": {},
   "outputs": [],
   "source": [
    "n = n_dens.eval() * 1e12\n",
    "p = p_dens.eval() * 1e12\n",
    "PL = PL.eval()"
   ]
  },
  {
   "cell_type": "code",
   "execution_count": 86,
   "id": "fab42650",
   "metadata": {},
   "outputs": [
    {
     "data": {
      "text/plain": [
       "<matplotlib.legend.Legend at 0x274fa5cf3d0>"
      ]
     },
     "execution_count": 86,
     "metadata": {},
     "output_type": "execute_result"
    },
    {
     "data": {
      "image/png": "[encoded data removed]",
      "text/plain": [
       "<Figure size 640x480 with 1 Axes>"
      ]
     },
     "metadata": {},
     "output_type": "display_data"
    }
   ],
   "source": [
    "plt.plot(time, PL1, label='PL1')\n",
    "plt.plot(time, PL, label='PL2', linestyle='--')\n",
    "plt.yscale('log')\n",
    "plt.legend()"
   ]
  }
 ],
 "metadata": {
  "kernelspec": {
   "display_name": "Python 3 (ipykernel)",
   "language": "python",
   "name": "python3"
  },
  "language_info": {
   "codemirror_mode": {
    "name": "ipython",
    "version": 3
   },
   "file_extension": ".py",
   "mimetype": "text/x-python",
   "name": "python",
   "nbconvert_exporter": "python",
   "pygments_lexer": "ipython3",
   "version": "3.11.0"
  }
 },
 "nbformat": 4,
 "nbformat_minor": 5
}
