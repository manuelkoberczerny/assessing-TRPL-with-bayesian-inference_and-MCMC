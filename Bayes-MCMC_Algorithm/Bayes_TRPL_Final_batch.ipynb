{
 "cells": [
  {
   "cell_type": "markdown",
   "id": "6d5b2031-6c22-4098-bdde-3b454fd1ae3e",
   "metadata": {},
   "source": [
    "# Bayes-MCMC Algorithm for TRPL Data Assessment - Batch Version"
   ]
  },
  {
   "cell_type": "code",
   "execution_count": 1,
   "id": "b583e8a8-887a-43b2-9969-2f2517cb6c7f",
   "metadata": {},
   "outputs": [],
   "source": [
    "import arviz as az\n",
    "from Manuel_BayesTRPL_Model_updated import *\n",
    "from Manuel_BayesTRPL_Utilities import *"
   ]
  },
  {
   "cell_type": "markdown",
   "id": "dd0a2e82-b37c-461f-8761-bcbab05b256a",
   "metadata": {},
   "source": [
    "... Some text for information here ...\n",
    "\n",
    "The 'config'-file is a .csv file containig 6 columns:  \n",
    "file name (no .txt)  |  thickness (nm)  |  side (1 or 2)  |  alpha (cm-1)  |  reflectance  |  Intensity  |  max_time (ns)\n",
    "\n",
    "For a pre-run:  \n",
    "tune_no = 900;\n",
    "draws_no = 100;\n",
    "cores_no = 10\n",
    "\n",
    "for a real run:  \n",
    "tune_no = 9000 or 0;\n",
    "draws_no = 1000 or 10000;\n",
    "cores_no = 10\n",
    "\n",
    "Laser power files:    \n",
    "old: 2022_05_01_TRPL_Laserpower.txt  \n",
    "from 18-Jul-2023 use: 2024_03_06_TRPL_Laserpower.txt"
   ]
  },
  {
   "cell_type": "code",
   "execution_count": 2,
   "id": "8b6bc86c-66ec-4bd7-a5d1-d0095e38c2cf",
   "metadata": {},
   "outputs": [
    {
     "name": "stdout",
     "output_type": "stream",
     "text": [
      "Files ready...\n",
      "log200 200\n",
      "[2.24438760e+08 2.67521565e+08 2.24438760e+08 2.67521565e+08]\n",
      "[3.00442529e+15 2.02071894e+15 3.00442529e+15 2.02071894e+15]\n",
      "Bayes-MCMC Sampling Running...\n",
      "(tune: 0, draws: 10000, chains: 10)\n"
     ]
    },
    {
     "data": {
      "text/html": [
       "\n",
       "<style>\n",
       "    /* Turns off some styling */\n",
       "    progress {\n",
       "        /* gets rid of default border in Firefox and Opera. */\n",
       "        border: none;\n",
       "        /* Needs to be in here for Safari polyfill so background images work as expected. */\n",
       "        background-size: auto;\n",
       "    }\n",
       "    progress:not([value]), progress:not([value])::-webkit-progress-bar {\n",
       "        background: repeating-linear-gradient(45deg, #7e7e7e, #7e7e7e 10px, #5c5c5c 10px, #5c5c5c 20px);\n",
       "    }\n",
       "    .progress-bar-interrupted, .progress-bar-interrupted::-webkit-progress-bar {\n",
       "        background: #F44336;\n",
       "    }\n",
       "</style>\n"
      ],
      "text/plain": [
       "<IPython.core.display.HTML object>"
      ]
     },
     "metadata": {},
     "output_type": "display_data"
    },
    {
     "data": {
      "text/html": [
       "\n",
       "    <div>\n",
       "      <progress value='100000' class='' max='100000' style='width:300px; height:20px; vertical-align: middle;'></progress>\n",
       "      100.00% [100000/100000 5:11:58&lt;00:00 Sampling 10 chains, 0 divergences]\n",
       "    </div>\n",
       "    "
      ],
      "text/plain": [
       "<IPython.core.display.HTML object>"
      ]
     },
     "metadata": {},
     "output_type": "display_data"
    },
    {
     "name": "stderr",
     "output_type": "stream",
     "text": [
      "The effective sample size per chain is smaller than 100 for some parameters.  A higher number is needed for reliable rhat and ess computation. See https://arxiv.org/abs/1903.08008 for details\n",
      "ERROR:pymc.stats.convergence:The effective sample size per chain is smaller than 100 for some parameters.  A higher number is needed for reliable rhat and ess computation. See https://arxiv.org/abs/1903.08008 for details\n"
     ]
    },
    {
     "name": "stdout",
     "output_type": "stream",
     "text": [
      "Bayes-MCMC done!\n",
      " \n",
      "Trace has been saved!\n",
      "Logfile has been saved!\n",
      "Files ready...\n",
      "log200 200\n",
      "[1.10291346e+15 9.11480060e+14 1.87209809e+15]\n",
      "[1.12038198e+15 9.22420117e+14 1.89733471e+15]\n",
      "Bayes-MCMC Sampling Running...\n",
      "(tune: 0, draws: 10000, chains: 10)\n"
     ]
    },
    {
     "data": {
      "text/html": [
       "\n",
       "<style>\n",
       "    /* Turns off some styling */\n",
       "    progress {\n",
       "        /* gets rid of default border in Firefox and Opera. */\n",
       "        border: none;\n",
       "        /* Needs to be in here for Safari polyfill so background images work as expected. */\n",
       "        background-size: auto;\n",
       "    }\n",
       "    progress:not([value]), progress:not([value])::-webkit-progress-bar {\n",
       "        background: repeating-linear-gradient(45deg, #7e7e7e, #7e7e7e 10px, #5c5c5c 10px, #5c5c5c 20px);\n",
       "    }\n",
       "    .progress-bar-interrupted, .progress-bar-interrupted::-webkit-progress-bar {\n",
       "        background: #F44336;\n",
       "    }\n",
       "</style>\n"
      ],
      "text/plain": [
       "<IPython.core.display.HTML object>"
      ]
     },
     "metadata": {},
     "output_type": "display_data"
    },
    {
     "data": {
      "text/html": [
       "\n",
       "    <div>\n",
       "      <progress value='100000' class='' max='100000' style='width:300px; height:20px; vertical-align: middle;'></progress>\n",
       "      100.00% [100000/100000 4:44:30&lt;00:00 Sampling 10 chains, 0 divergences]\n",
       "    </div>\n",
       "    "
      ],
      "text/plain": [
       "<IPython.core.display.HTML object>"
      ]
     },
     "metadata": {},
     "output_type": "display_data"
    },
    {
     "name": "stderr",
     "output_type": "stream",
     "text": [
      "The effective sample size per chain is smaller than 100 for some parameters.  A higher number is needed for reliable rhat and ess computation. See https://arxiv.org/abs/1903.08008 for details\n",
      "ERROR:pymc.stats.convergence:The effective sample size per chain is smaller than 100 for some parameters.  A higher number is needed for reliable rhat and ess computation. See https://arxiv.org/abs/1903.08008 for details\n"
     ]
    },
    {
     "name": "stdout",
     "output_type": "stream",
     "text": [
      "Bayes-MCMC done!\n",
      " \n",
      "Trace has been saved!\n",
      "Logfile has been saved!\n",
      "Files ready...\n",
      "log200 200\n",
      "[5.74507002e+08 8.51651756e+08 5.62663952e+08]\n",
      "[5.75954815e+14 5.03531229e+14 5.78870650e+14]\n",
      "Bayes-MCMC Sampling Running...\n",
      "(tune: 0, draws: 10000, chains: 10)\n"
     ]
    },
    {
     "data": {
      "text/html": [
       "\n",
       "<style>\n",
       "    /* Turns off some styling */\n",
       "    progress {\n",
       "        /* gets rid of default border in Firefox and Opera. */\n",
       "        border: none;\n",
       "        /* Needs to be in here for Safari polyfill so background images work as expected. */\n",
       "        background-size: auto;\n",
       "    }\n",
       "    progress:not([value]), progress:not([value])::-webkit-progress-bar {\n",
       "        background: repeating-linear-gradient(45deg, #7e7e7e, #7e7e7e 10px, #5c5c5c 10px, #5c5c5c 20px);\n",
       "    }\n",
       "    .progress-bar-interrupted, .progress-bar-interrupted::-webkit-progress-bar {\n",
       "        background: #F44336;\n",
       "    }\n",
       "</style>\n"
      ],
      "text/plain": [
       "<IPython.core.display.HTML object>"
      ]
     },
     "metadata": {},
     "output_type": "display_data"
    },
    {
     "data": {
      "text/html": [
       "\n",
       "    <div>\n",
       "      <progress value='100000' class='' max='100000' style='width:300px; height:20px; vertical-align: middle;'></progress>\n",
       "      100.00% [100000/100000 4:32:01&lt;00:00 Sampling 10 chains, 0 divergences]\n",
       "    </div>\n",
       "    "
      ],
      "text/plain": [
       "<IPython.core.display.HTML object>"
      ]
     },
     "metadata": {},
     "output_type": "display_data"
    },
    {
     "name": "stderr",
     "output_type": "stream",
     "text": [
      "The effective sample size per chain is smaller than 100 for some parameters.  A higher number is needed for reliable rhat and ess computation. See https://arxiv.org/abs/1903.08008 for details\n",
      "ERROR:pymc.stats.convergence:The effective sample size per chain is smaller than 100 for some parameters.  A higher number is needed for reliable rhat and ess computation. See https://arxiv.org/abs/1903.08008 for details\n"
     ]
    },
    {
     "name": "stdout",
     "output_type": "stream",
     "text": [
      "Bayes-MCMC done!\n",
      " \n",
      "Trace has been saved!\n",
      "Logfile has been saved!\n"
     ]
    }
   ],
   "source": [
    "spacing = ['log200', 'log200', 'log200']   # Default is 'log20', can be 'linear', 'squared', 'golden_ratio', 'log85'\n",
    "reabsorption = ['No', 'Yes', 'No']  #or 'Yes'\n",
    "\n",
    "tune_no = [0, 0, 0]\n",
    "draws_no = [10000, 10000,  10000]\n",
    "cores_no = 10\n",
    "\n",
    "config_names = [r\"Seo_FAPI.csv\",r\"Seo_Spiro.csv\", r\"Seo_SnO2.csv\"]\n",
    "\n",
    "folder = r\"/home/kober-czerny/TRPL_Data/2023_07_20_Bayes_Seongrok_FAPI\"\n",
    "\n",
    "laserpower_file = \"2022_05_01_TRPL_Laserpower.txt\" #most recent: \"\" , old: \"2022_05_01_TRPL_Laserpower.txt\"\n",
    "\n",
    "\n",
    "for i in range(len(config_names)):\n",
    "\n",
    "    df, pile_up, sample_names, Fluences, Thickness, Surface, Absorption_coeff, Reflectance, intensity, max_arg, bckg_list = Bayes_TRPL_Utils(folder, config_names[i], laserpower_file)\n",
    "\n",
    "    # Run this: It runs the inference with the chosen settings\n",
    "    trace = run_bayesian_inference(df, max_arg, spacing[i], Fluences, Surface, Thickness, Absorption_coeff, tune_no[i], draws_no[i], cores_no, folder, config_names[i], bckg_list, reabsorption[i], laserpower_file)"
   ]
  },
  {
   "cell_type": "code",
   "execution_count": null,
   "id": "103b6d06-7508-4cdb-8d64-b03eb558219a",
   "metadata": {},
   "outputs": [],
   "source": []
  },
  {
   "cell_type": "code",
   "execution_count": null,
   "id": "52bf368e-55e4-457b-909a-9d94ba994855",
   "metadata": {},
   "outputs": [],
   "source": []
  },
  {
   "cell_type": "code",
   "execution_count": null,
   "id": "923d33bc-2850-44b4-9705-29b43dd929e4",
   "metadata": {},
   "outputs": [],
   "source": []
  },
  {
   "cell_type": "code",
   "execution_count": null,
   "id": "e67d6a32-ad3d-4b59-8211-216d601475cf",
   "metadata": {},
   "outputs": [],
   "source": []
  },
  {
   "cell_type": "code",
   "execution_count": null,
   "id": "e86b083b-75ac-4e00-8889-9e3e281c847a",
   "metadata": {},
   "outputs": [],
   "source": []
  },
  {
   "cell_type": "code",
   "execution_count": null,
   "id": "e3c646b3-4a0f-4236-8802-43576bc3fc54",
   "metadata": {},
   "outputs": [],
   "source": []
  },
  {
   "cell_type": "code",
   "execution_count": null,
   "id": "05f8c458-8313-4689-b75f-41214b971f68",
   "metadata": {},
   "outputs": [],
   "source": []
  }
 ],
 "metadata": {
  "kernelspec": {
   "display_name": "Python 3 (ipykernel)",
   "language": "python",
   "name": "python3"
  },
  "language_info": {
   "codemirror_mode": {
    "name": "ipython",
    "version": 3
   },
   "file_extension": ".py",
   "mimetype": "text/x-python",
   "name": "python",
   "nbconvert_exporter": "python",
   "pygments_lexer": "ipython3",
   "version": "3.11.4"
  }
 },
 "nbformat": 4,
 "nbformat_minor": 5
}
